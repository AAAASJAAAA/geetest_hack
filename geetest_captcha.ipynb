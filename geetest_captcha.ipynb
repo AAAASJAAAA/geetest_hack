{
 "cells": [
  {
   "cell_type": "code",
   "execution_count": 1,
   "metadata": {},
   "outputs": [],
   "source": [
    "from selenium import webdriver\n",
    "from selenium.webdriver.common.by import By\n",
    "from selenium.webdriver.support.wait import WebDriverWait\n",
    "from selenium.webdriver.support import expected_conditions as EC\n",
    "from selenium.webdriver import ActionChains"
   ]
  },
  {
   "cell_type": "code",
   "execution_count": 2,
   "metadata": {},
   "outputs": [],
   "source": [
    "import base64\n",
    "import random\n",
    "import time\n",
    "from datetime import datetime"
   ]
  },
  {
   "cell_type": "code",
   "execution_count": 3,
   "metadata": {},
   "outputs": [],
   "source": [
    "import numpy as np\n",
    "\n",
    "import skimage\n",
    "from skimage import io\n",
    "from skimage.color import rgba2rgb,rgb2gray\n",
    "from skimage.util import compare_images\n",
    "from skimage.measure import find_contours\n",
    "from skimage.filters import threshold_otsu\n",
    "\n",
    "import matplotlib.pyplot as plt"
   ]
  },
  {
   "cell_type": "code",
   "execution_count": null,
   "metadata": {},
   "outputs": [],
   "source": []
  },
  {
   "cell_type": "code",
   "execution_count": null,
   "metadata": {},
   "outputs": [],
   "source": [
    "# 取消显示滑块\n",
    "# js_slice = \"document.getElementsByClassName('geetest_canvas_slice')[0].style.display='none'\" \n",
    "# 取消显示拼图\n",
    "# js_jigsaw = \"document.getElementsByClassName('geetest_canvas_fullbg')[0].style.display='block'\""
   ]
  },
  {
   "cell_type": "code",
   "execution_count": 35,
   "metadata": {},
   "outputs": [],
   "source": [
    "# 浏览器\n",
    "driver = webdriver.Chrome('E:/chromedriver/chromedriver.exe')"
   ]
  },
  {
   "cell_type": "code",
   "execution_count": 36,
   "metadata": {},
   "outputs": [],
   "source": [
    "# geetest测试页面\n",
    "# target_url = \"https://www.geetest.com/Register\"\n",
    "target_url = \"https://www.geetest.com/demo/slide-bind.html\""
   ]
  },
  {
   "cell_type": "code",
   "execution_count": 6,
   "metadata": {},
   "outputs": [],
   "source": [
    "# 人工鼠标轨迹记录\n",
    "with open(\"mouse/mouse_track.txt\") as f:\n",
    "    track_data = f.read()"
   ]
  },
  {
   "cell_type": "code",
   "execution_count": 7,
   "metadata": {},
   "outputs": [],
   "source": [
    "track_data = track_data.split(\"\\n\\n\")\n",
    "\n",
    "# 轨迹字典\n",
    "# 键：拖动总长度\n",
    "# 值：轨迹数组，每个数字是鼠标横向移动一次的像素数\n",
    "track_map = {}\n",
    "\n",
    "for line in track_data:\n",
    "    line_list = [int(x) for x in line.split(\",\")]\n",
    "    k = line_list[-1]\n",
    "    track_map[k] = np.array(line_list[1:]) - np.array(line_list[:-1])"
   ]
  },
  {
   "cell_type": "code",
   "execution_count": null,
   "metadata": {},
   "outputs": [],
   "source": []
  },
  {
   "cell_type": "code",
   "execution_count": 39,
   "metadata": {},
   "outputs": [],
   "source": [
    "class geetestHacker:\n",
    "    \n",
    "    def __init__(self, driver, target_url):\n",
    "        self.driver = driver\n",
    "        self.target_url = target_url\n",
    "        \n",
    "        # 打开验证码页面\n",
    "        self.driver.get(self.target_url)\n",
    "        \n",
    "        self.wait = WebDriverWait(self.driver, 3)\n",
    "        \n",
    "        self.jigsaw_imgname = None\n",
    "        self.fullbg_imgname = None\n",
    "        self.x_offset = 0\n",
    "        self.track = []\n",
    "        \n",
    "    def open_captcha(self):\n",
    "        \n",
    "        time.sleep(1)\n",
    "        # 等待按钮可点击\n",
    "        \n",
    "        # 测试页面\n",
    "        submit_btn = self.wait.until(EC.element_to_be_clickable((By.ID, 'btn')))\n",
    "        # 官网注册页面\n",
    "        # submit_btn = self.wait.until(EC.element_to_be_clickable((By.CLASS_NAME, 'sendCode')))\n",
    "        \n",
    "        # 点击“验证按钮”\n",
    "        submit_btn.click()\n",
    "        # 等待滑块出现\n",
    "        canvas = self.wait.until(EC.presence_of_element_located((By.CLASS_NAME, 'geetest_slicebg')))\n",
    "        \n",
    "    def get_image(self):\n",
    "        \n",
    "        # 获取图片地址\n",
    "        js_getimg_jigsaw = \"return document.getElementsByClassName('geetest_canvas_bg')[0].toDataURL('image/png')\"\n",
    "        js_getimg_fullbg = \"return document.getElementsByClassName('geetest_canvas_fullbg')[0].toDataURL('image/png')\"\n",
    "        \n",
    "        # 生成时间+随机数文件名后缀\n",
    "        suffix = datetime.now().strftime(\"%Y%m%d%H%M%S\") + \\\n",
    "                 \"{:>03}\".format(random.randint(0,100))\n",
    "        \n",
    "        # 获取带有锯齿阴影的图片\n",
    "        jigsaw_imgpath = driver.execute_script(js_getimg_jigsaw)\n",
    "        jigsaw_imgdata = base64.b64decode(jigsaw_imgpath.split(\",\")[1])\n",
    "\n",
    "        self.jigsaw_imgname = \"images/jigsaw_\" + \\\n",
    "                          suffix + \\\n",
    "                         \".png\"\n",
    "\n",
    "        with open(self.jigsaw_imgname, \"wb\") as f:\n",
    "            f.write(jigsaw_imgdata)\n",
    "            \n",
    "        # 获取完整图片\n",
    "        fullbg_imgpath = driver.execute_script(js_getimg_fullbg)\n",
    "        fullbg_imgdata = base64.b64decode(fullbg_imgpath.split(\",\")[1])\n",
    "\n",
    "        self.fullbg_imgname = \"images/fullbg_\" + \\\n",
    "                               suffix + \\\n",
    "                              \".png\"\n",
    "\n",
    "        with open(self.fullbg_imgname, \"wb\") as f:\n",
    "            f.write(fullbg_imgdata)\n",
    "        \n",
    "        \n",
    "    def compute_offset(self):\n",
    "        # 读取图片\n",
    "        img_jigsaw = io.imread(self.jigsaw_imgname)\n",
    "        img_fullbg = io.imread(self.fullbg_imgname)\n",
    "        # 灰度化\n",
    "        img_jigsaw = rgb2gray(rgba2rgb(img_jigsaw))\n",
    "        img_fullbg = rgb2gray(rgba2rgb(img_fullbg))\n",
    "        # 求差值\n",
    "        img_diff = compare_images(img_jigsaw, img_fullbg)\n",
    "        \n",
    "        # 二值化\n",
    "        binary = img_diff > threshold_otsu(img_diff)\n",
    "        # 最大contour\n",
    "        contours = find_contours(binary, 0.5)\n",
    "        # 最左侧横坐标\n",
    "        self.x_offset = contours[0][:,1].min() - 6\n",
    "        \n",
    "    \n",
    "    def gen_track(self):\n",
    "        \n",
    "        # 查找长度最接近的轨迹\n",
    "        def find_closest():\n",
    "            return sorted(list(track_map.keys()), key=lambda x: abs(self.x_offset-x))[0]\n",
    "        \n",
    "        self.track = track_map[find_closest()]        \n",
    "        \n",
    "    def slide(self):\n",
    "        # 获取滑块对象\n",
    "        slider = self.wait.until(EC.element_to_be_clickable((By.CLASS_NAME, 'geetest_slider_button')))\n",
    "\n",
    "        # 点击并按住\n",
    "        ActionChains(self.driver).click_and_hold(slider).perform()\n",
    "        \n",
    "        # 按照轨迹数组运动\n",
    "        for x in self.track:\n",
    "            ActionChains(self.driver).move_by_offset(xoffset=x, yoffset=0).perform()\n",
    "\n",
    "        time.sleep(0.5)\n",
    "        # 松开滑块\n",
    "        ActionChains(self.driver).release().perform()\n",
    "\n",
    "    "
   ]
  },
  {
   "cell_type": "code",
   "execution_count": null,
   "metadata": {},
   "outputs": [],
   "source": []
  },
  {
   "cell_type": "code",
   "execution_count": 40,
   "metadata": {},
   "outputs": [],
   "source": [
    "hacker = geetestHacker(driver, target_url)"
   ]
  },
  {
   "cell_type": "code",
   "execution_count": 41,
   "metadata": {},
   "outputs": [],
   "source": [
    "hacker.open_captcha()"
   ]
  },
  {
   "cell_type": "code",
   "execution_count": 42,
   "metadata": {},
   "outputs": [],
   "source": [
    "hacker.get_image()\n",
    "hacker.compute_offset()\n",
    "hacker.gen_track()\n",
    "hacker.slide()"
   ]
  },
  {
   "cell_type": "code",
   "execution_count": 44,
   "metadata": {},
   "outputs": [],
   "source": [
    "driver.close()"
   ]
  },
  {
   "cell_type": "code",
   "execution_count": null,
   "metadata": {},
   "outputs": [],
   "source": []
  }
 ],
 "metadata": {
  "kernelspec": {
   "display_name": "Python 3",
   "language": "python",
   "name": "python3"
  },
  "language_info": {
   "codemirror_mode": {
    "name": "ipython",
    "version": 3
   },
   "file_extension": ".py",
   "mimetype": "text/x-python",
   "name": "python",
   "nbconvert_exporter": "python",
   "pygments_lexer": "ipython3",
   "version": "3.6.5"
  }
 },
 "nbformat": 4,
 "nbformat_minor": 2
}
